{
  "nbformat": 4,
  "nbformat_minor": 0,
  "metadata": {
    "colab": {
      "provenance": [],
      "gpuType": "T4"
    },
    "kernelspec": {
      "name": "python3",
      "display_name": "Python 3"
    },
    "language_info": {
      "name": "python"
    },
    "accelerator": "GPU"
  },
  "cells": [
    {
      "cell_type": "code",
      "execution_count": 54,
      "metadata": {
        "id": "uJT86_1SSKNm"
      },
      "outputs": [],
      "source": [
        "import tensorflow as tf\n",
        "from tensorflow.keras.layers import Layer ,Embedding, Dense, LayerNormalization, Dropout\n",
        "from tensorflow.keras import Model"
      ]
    },
    {
      "cell_type": "markdown",
      "source": [
        "# **MULTIHEAD SELF ATTENTION PHASE**"
      ],
      "metadata": {
        "id": "040xaSbeTa3F"
      }
    },
    {
      "cell_type": "code",
      "source": [
        "class MultiHeadAttention(Layer):\n",
        "  def __init__(self, embed_dim, num_heads):\n",
        "    super().__init__()\n",
        "    self.embed_dim = embed_dim\n",
        "    self.num_heads = num_heads\n",
        "    self.atten_head_size = embed_dim // num_heads\n",
        "\n",
        "    self.wq = Dense(embed_dim)\n",
        "    self.wk = Dense(embed_dim)\n",
        "    self.wv = Dense(embed_dim)\n",
        "\n",
        "    self.dense = Dense(embed_dim)\n",
        "\n",
        "  def split_heads(self, x, batch_size):\n",
        "    x = tf.reshape(x, (batch_size, -1, self.num_heads, self.atten_head_size))\n",
        "    return tf.transpose(x, perm=[0, 2, 1, 3])\n",
        "\n",
        "  def call(self,q,k,v,mask):\n",
        "    batch_size = tf.shape(q)[0]\n",
        "\n",
        "    q = self.split_heads(self.wq(q), batch_size)\n",
        "    k = self.split_heads(self.wk(k), batch_size)\n",
        "    v = self.split_heads(self.wv(v), batch_size)\n",
        "\n",
        "    matmul_qk = tf.matmul(q, k, transpose_b=True)\n",
        "    dk = tf.cast(tf.shape(k)[-1], tf.float32)\n",
        "    scaled_attention_logits = matmul_qk / tf.math.sqrt(dk)\n",
        "\n",
        "    if mask is not None:\n",
        "      scaled_attention_logits += (mask * -1e9)\n",
        "\n",
        "    attention_weights = tf.nn.softmax(scaled_attention_logits, axis=-1)\n",
        "    output = tf.matmul(attention_weights, v)\n",
        "    output = tf.transpose(output, perm=[0, 2, 1, 3])\n",
        "    concat_attention = tf.reshape(output, (batch_size, -1, self.embed_dim))\n",
        "    return self.dense(concat_attention)\n",
        "\n"
      ],
      "metadata": {
        "id": "odcnJSFdSWDb"
      },
      "execution_count": 55,
      "outputs": []
    },
    {
      "cell_type": "markdown",
      "source": [
        "# **FEEDFORWARD NN PHASE**"
      ],
      "metadata": {
        "id": "ilQz-7anW3Kq"
      }
    },
    {
      "cell_type": "code",
      "source": [
        "class FeedForwardNetwork(Layer):\n",
        "    def __init__(self, embed_dim, dff):\n",
        "        super().__init__()\n",
        "        self.dense1 = Dense(dff, activation='gelu')\n",
        "        self.dense2 = Dense(embed_dim)\n",
        "\n",
        "    def call(self, x):\n",
        "        return self.dense2(self.dense1(x))\n"
      ],
      "metadata": {
        "id": "az2d0PDkVaPJ"
      },
      "execution_count": 56,
      "outputs": []
    },
    {
      "cell_type": "markdown",
      "source": [
        "# **TRANSFORMER BLOCK**"
      ],
      "metadata": {
        "id": "kt-aMKJPYlHs"
      }
    },
    {
      "cell_type": "code",
      "source": [
        "class TransformerBlock(Layer):\n",
        "  def __init__(self, embed_dim, num_heads, dff, dropout_rate=0.1):\n",
        "    super().__init__()\n",
        "    self.att = MultiHeadAttention(embed_dim, num_heads)\n",
        "    self.ffn = FeedForwardNetwork(embed_dim, dff)\n",
        "    self.norm1 = LayerNormalization(epsilon=1e-6)\n",
        "    self.norm2 = LayerNormalization(epsilon=1e-6)\n",
        "    self.dropout1 = Dropout(dropout_rate)\n",
        "    self.dropout2 = Dropout(dropout_rate)\n",
        "\n",
        "  def call(self, x, mask=None):\n",
        "    attn_output = self.att(x, x, x, mask)\n",
        "    attn_output = self.dropout1(attn_output)\n",
        "    out1 = self.norm1(x + attn_output)\n",
        "    ffn_output = self.ffn(out1)\n",
        "    ffn_output = self.dropout2(ffn_output)\n",
        "    return self.norm2(out1 + ffn_output)\n"
      ],
      "metadata": {
        "id": "WiTcODcmYixe"
      },
      "execution_count": 60,
      "outputs": []
    },
    {
      "cell_type": "markdown",
      "source": [
        "# **CHATGPT MODEL**"
      ],
      "metadata": {
        "id": "ZI_dzq1DcL2X"
      }
    },
    {
      "cell_type": "code",
      "source": [
        "class GPT2(Model):\n",
        "    def __init__(self, vocab_size, max_length, embed_dim=768, num_heads=12, dff=3072, num_layer=12, dropout_rate=0.1):\n",
        "        super().__init__()\n",
        "\n",
        "        self.token_emb = Embedding(vocab_size, embed_dim)\n",
        "        self.pos_emb = Embedding(max_length, embed_dim)\n",
        "\n",
        "        self.transformer_blocks = [\n",
        "    TransformerBlock(embed_dim, num_heads, dff, dropout_rate)\n",
        "    for _ in range(num_layer)\n",
        "]\n",
        "\n",
        "\n",
        "        self.norm = LayerNormalization(epsilon=1e-6)\n",
        "        self.out = Dense(vocab_size)\n",
        "\n",
        "    def create_casual_mask(self, seq_len):\n",
        "        mask = tf.linalg.band_part(tf.ones((seq_len, seq_len)), -1, 0)\n",
        "        return 1 - mask\n",
        "\n",
        "    def call(self, x):\n",
        "        seq_len = tf.shape(x)[1]\n",
        "        mask = self.create_casual_mask(seq_len)\n",
        "\n",
        "        token_embeddings = self.token_emb(x)\n",
        "        position_ids = tf.range(start=0, limit=seq_len, delta=1)\n",
        "        position_embeddings = self.pos_emb(position_ids)\n",
        "\n",
        "        x = token_embeddings + position_embeddings\n",
        "\n",
        "        for transformer in self.transformer_blocks:\n",
        "            x = transformer(x, mask)\n",
        "\n",
        "        x = self.norm(x)\n",
        "        return self.out(x)\n"
      ],
      "metadata": {
        "id": "a5_3XXHsag40"
      },
      "execution_count": 61,
      "outputs": []
    },
    {
      "cell_type": "code",
      "source": [
        "VOCAB_SIZE = 50257\n",
        "MAX_LENGTH = 1024\n",
        "\n",
        "inputs = tf.keras.layers.Input(shape=(MAX_LENGTH,),dtype=tf.int32)\n",
        "outputs = GPT2(vocab_size=VOCAB_SIZE, max_length=MAX_LENGTH)(inputs)\n",
        "gpt2 = Model(inputs, outputs)\n",
        "\n",
        "gpt2.build(input_shape=(1, MAX_LENGTH))\n",
        "gpt2.summary()"
      ],
      "metadata": {
        "colab": {
          "base_uri": "https://localhost:8080/",
          "height": 193
        },
        "id": "QD3YCrcndmea",
        "outputId": "11bb4399-e8fc-4452-b2b2-02bd09aa77d9"
      },
      "execution_count": 62,
      "outputs": [
        {
          "output_type": "display_data",
          "data": {
            "text/plain": [
              "\u001b[1mModel: \"functional\"\u001b[0m\n"
            ],
            "text/html": [
              "<pre style=\"white-space:pre;overflow-x:auto;line-height:normal;font-family:Menlo,'DejaVu Sans Mono',consolas,'Courier New',monospace\"><span style=\"font-weight: bold\">Model: \"functional\"</span>\n",
              "</pre>\n"
            ]
          },
          "metadata": {}
        },
        {
          "output_type": "display_data",
          "data": {
            "text/plain": [
              "┏━━━━━━━━━━━━━━━━━━━━━━━━━━━━━━━━━┳━━━━━━━━━━━━━━━━━━━━━━━━┳━━━━━━━━━━━━━━━┓\n",
              "┃\u001b[1m \u001b[0m\u001b[1mLayer (type)                   \u001b[0m\u001b[1m \u001b[0m┃\u001b[1m \u001b[0m\u001b[1mOutput Shape          \u001b[0m\u001b[1m \u001b[0m┃\u001b[1m \u001b[0m\u001b[1m      Param #\u001b[0m\u001b[1m \u001b[0m┃\n",
              "┡━━━━━━━━━━━━━━━━━━━━━━━━━━━━━━━━━╇━━━━━━━━━━━━━━━━━━━━━━━━╇━━━━━━━━━━━━━━━┩\n",
              "│ input_layer_16 (\u001b[38;5;33mInputLayer\u001b[0m)     │ (\u001b[38;5;45mNone\u001b[0m, \u001b[38;5;34m1024\u001b[0m)           │             \u001b[38;5;34m0\u001b[0m │\n",
              "├─────────────────────────────────┼────────────────────────┼───────────────┤\n",
              "│ gpt2_16 (\u001b[38;5;33mGPT2\u001b[0m)                  │ (\u001b[38;5;45mNone\u001b[0m, \u001b[38;5;34m1024\u001b[0m, \u001b[38;5;34m50257\u001b[0m)    │   \u001b[38;5;34m163,087,441\u001b[0m │\n",
              "└─────────────────────────────────┴────────────────────────┴───────────────┘\n"
            ],
            "text/html": [
              "<pre style=\"white-space:pre;overflow-x:auto;line-height:normal;font-family:Menlo,'DejaVu Sans Mono',consolas,'Courier New',monospace\">┏━━━━━━━━━━━━━━━━━━━━━━━━━━━━━━━━━┳━━━━━━━━━━━━━━━━━━━━━━━━┳━━━━━━━━━━━━━━━┓\n",
              "┃<span style=\"font-weight: bold\"> Layer (type)                    </span>┃<span style=\"font-weight: bold\"> Output Shape           </span>┃<span style=\"font-weight: bold\">       Param # </span>┃\n",
              "┡━━━━━━━━━━━━━━━━━━━━━━━━━━━━━━━━━╇━━━━━━━━━━━━━━━━━━━━━━━━╇━━━━━━━━━━━━━━━┩\n",
              "│ input_layer_16 (<span style=\"color: #0087ff; text-decoration-color: #0087ff\">InputLayer</span>)     │ (<span style=\"color: #00d7ff; text-decoration-color: #00d7ff\">None</span>, <span style=\"color: #00af00; text-decoration-color: #00af00\">1024</span>)           │             <span style=\"color: #00af00; text-decoration-color: #00af00\">0</span> │\n",
              "├─────────────────────────────────┼────────────────────────┼───────────────┤\n",
              "│ gpt2_16 (<span style=\"color: #0087ff; text-decoration-color: #0087ff\">GPT2</span>)                  │ (<span style=\"color: #00d7ff; text-decoration-color: #00d7ff\">None</span>, <span style=\"color: #00af00; text-decoration-color: #00af00\">1024</span>, <span style=\"color: #00af00; text-decoration-color: #00af00\">50257</span>)    │   <span style=\"color: #00af00; text-decoration-color: #00af00\">163,087,441</span> │\n",
              "└─────────────────────────────────┴────────────────────────┴───────────────┘\n",
              "</pre>\n"
            ]
          },
          "metadata": {}
        },
        {
          "output_type": "display_data",
          "data": {
            "text/plain": [
              "\u001b[1m Total params: \u001b[0m\u001b[38;5;34m163,087,441\u001b[0m (622.13 MB)\n"
            ],
            "text/html": [
              "<pre style=\"white-space:pre;overflow-x:auto;line-height:normal;font-family:Menlo,'DejaVu Sans Mono',consolas,'Courier New',monospace\"><span style=\"font-weight: bold\"> Total params: </span><span style=\"color: #00af00; text-decoration-color: #00af00\">163,087,441</span> (622.13 MB)\n",
              "</pre>\n"
            ]
          },
          "metadata": {}
        },
        {
          "output_type": "display_data",
          "data": {
            "text/plain": [
              "\u001b[1m Trainable params: \u001b[0m\u001b[38;5;34m163,087,441\u001b[0m (622.13 MB)\n"
            ],
            "text/html": [
              "<pre style=\"white-space:pre;overflow-x:auto;line-height:normal;font-family:Menlo,'DejaVu Sans Mono',consolas,'Courier New',monospace\"><span style=\"font-weight: bold\"> Trainable params: </span><span style=\"color: #00af00; text-decoration-color: #00af00\">163,087,441</span> (622.13 MB)\n",
              "</pre>\n"
            ]
          },
          "metadata": {}
        },
        {
          "output_type": "display_data",
          "data": {
            "text/plain": [
              "\u001b[1m Non-trainable params: \u001b[0m\u001b[38;5;34m0\u001b[0m (0.00 B)\n"
            ],
            "text/html": [
              "<pre style=\"white-space:pre;overflow-x:auto;line-height:normal;font-family:Menlo,'DejaVu Sans Mono',consolas,'Courier New',monospace\"><span style=\"font-weight: bold\"> Non-trainable params: </span><span style=\"color: #00af00; text-decoration-color: #00af00\">0</span> (0.00 B)\n",
              "</pre>\n"
            ]
          },
          "metadata": {}
        }
      ]
    },
    {
      "cell_type": "code",
      "source": [],
      "metadata": {
        "id": "LtxFcC6OesLC"
      },
      "execution_count": null,
      "outputs": []
    }
  ]
}